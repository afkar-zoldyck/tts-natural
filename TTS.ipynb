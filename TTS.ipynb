{
  "nbformat": 4,
  "nbformat_minor": 0,
  "metadata": {
    "colab": {
      "name": "TTS.ipynb",
      "provenance": [],
      "collapsed_sections": [],
      "toc_visible": true,
      "authorship_tag": "ABX9TyOFTsfnx9hzQqj/mLBcS7kR",
      "include_colab_link": true
    },
    "kernelspec": {
      "name": "python3",
      "display_name": "Python 3"
    }
  },
  "cells": [
    {
      "cell_type": "markdown",
      "metadata": {
        "id": "view-in-github",
        "colab_type": "text"
      },
      "source": [
        "<a href=\"https://colab.research.google.com/github/afkar-zoldyck/tts-natural/blob/master/TTS.ipynb\" target=\"_parent\"><img src=\"https://colab.research.google.com/assets/colab-badge.svg\" alt=\"Open In Colab\"/></a>"
      ]
    },
    {
      "cell_type": "code",
      "metadata": {
        "id": "FhY78Hqoz4Qs",
        "colab_type": "code",
        "colab": {}
      },
      "source": [
        "# Install TTS\n",
        "pip install --upgrade google-cloud-texttospeech"
      ],
      "execution_count": 0,
      "outputs": []
    },
    {
      "cell_type": "code",
      "metadata": {
        "id": "X4oh_rn6z_yi",
        "colab_type": "code",
        "colab": {}
      },
      "source": [
        "# Upload file to google (sometimes you have to try it several times)\n",
        "from google.colab import files\n",
        "uploaded = files.upload()"
      ],
      "execution_count": 0,
      "outputs": []
    },
    {
      "cell_type": "code",
      "metadata": {
        "id": "5YuYTtzX0Lj-",
        "colab_type": "code",
        "colab": {}
      },
      "source": [
        "# Create credential object and test access \n",
        "from google.oauth2 import service_account\n",
        "from google.cloud import texttospeech\n",
        "credentials = service_account.Credentials.from_service_account_file('tts.json') # here insert the name of the json file\n",
        "\n",
        "texttospeech.TextToSpeechClient(credentials=credentials)"
      ],
      "execution_count": 0,
      "outputs": []
    },
    {
      "cell_type": "code",
      "metadata": {
        "id": "zz1Xh8cF0QGE",
        "colab_type": "code",
        "colab": {}
      },
      "source": [
        "# Load text file\n",
        "name=\"speech.txt\" # the name of the uploaded txt file that you want to have spoken\n",
        "output=\"output.mp3\"\n",
        "with open(name, 'r') as file:\n",
        "    data = file.read().replace('\\n', ' ')"
      ],
      "execution_count": 0,
      "outputs": []
    },
    {
      "cell_type": "code",
      "metadata": {
        "id": "7tm4CO5M0Vbf",
        "colab_type": "code",
        "colab": {}
      },
      "source": [
        "# Convert text to speech\n",
        "\n",
        "# Instantiates a client\n",
        "client = texttospeech.TextToSpeechClient(credentials=credentials)\n",
        "\n",
        "# Set the text input to be synthesized\n",
        "synthesis_input = texttospeech.types.SynthesisInput(text=data)\n",
        "\n",
        "# Build the voice request\n",
        "voice = texttospeech.types.VoiceSelectionParams(\n",
        "    name=\"id-ID-Wavenet-D\",  \n",
        "    language_code='id-ID',\n",
        "    ssml_gender=texttospeech.enums.SsmlVoiceGender.NEUTRAL\n",
        " )\n",
        "\n",
        "# Select the type of audio file\n",
        "audio_config = texttospeech.types.AudioConfig(\n",
        "    audio_encoding=texttospeech.enums.AudioEncoding.MP3,\n",
        "    speaking_rate=0.8\n",
        "    )\n",
        "\n",
        "# Perform the text-to-speech request on the text input with the selected\n",
        "# voice parameters and audio file type\n",
        "response = client.synthesize_speech(synthesis_input, voice, audio_config)\n",
        "\n",
        "# The response's audio_content is binary.\n",
        "with open(output, 'wb') as out:\n",
        "    # Write the response to the output file.\n",
        "    out.write(response.audio_content)\n",
        "    print('Audio content written \"output.mp3\"')"
      ],
      "execution_count": 0,
      "outputs": []
    }
  ]
}